{
 "cells": [
  {
   "cell_type": "code",
   "execution_count": null,
   "metadata": {},
   "outputs": [],
   "source": [
    "#creating the url\n",
    "\n",
    "dataset_identifier = 'QNA'\n",
    "filter_expression = ''\n",
    "agency_name = 'all'\n",
    "\n",
    "\n",
    "\n",
    "url = f'http://stats.oecd.org/SDMX-JSON/data/{dataset_identifier}/{filter_expression}/{agency_name}'"
   ]
  }
 ],
 "metadata": {
  "language_info": {
   "name": "python"
  }
 },
 "nbformat": 4,
 "nbformat_minor": 2
}

{
 "cells": [
  {
   "cell_type": "code",
   "execution_count": null,
   "metadata": {},
   "outputs": [],
   "source": [
    "#creating the url\n",
    "\n",
    "import requests\n",
    "\n",
    "dataset_identifier = 'OECD.ELS.SPD,DSD_PAG@DF_PW,1.0'\n",
    "filter_expression = ''\n",
    "agency_name = 'all'\n",
    "\n",
    "#create the url\n",
    "url = f'http://stats.oecd.org/SDMX-JSON/data/{dataset_identifier}/{filter_expression}/{agency_name}'\n",
    "\n",
    "# Fetch the data\n",
    "response = requests.get(url)\n",
    "\n"
   ]
  },
  {
   "cell_type": "code",
   "execution_count": 1,
   "metadata": {},
   "outputs": [
    {
     "name": "stdout",
     "output_type": "stream",
     "text": [
      "Data has been saved to oecd_data.xml\n"
     ]
    }
   ],
   "source": [
    "import requests\n",
    "\n",
    "# URL to fetch the data\n",
    "url = \"https://sdmx.oecd.org/public/rest/dataflow/OECD.ELS.SPD/DSD_PAG@DF_PW/1.0?references=all\"\n",
    "\n",
    "# Fetch the data\n",
    "response = requests.get(url)\n",
    "\n",
    "# Save the XML data to a file\n",
    "xml_data_path = \"oecd_data.xml\"\n",
    "with open(xml_data_path, \"wb\") as file:\n",
    "    file.write(response.content)\n",
    "\n",
    "print(f\"Data has been saved to {xml_data_path}\")"
   ]
  },
  {
   "cell_type": "code",
   "execution_count": null,
   "metadata": {},
   "outputs": [],
   "source": []
  }
 ],
 "metadata": {
  "kernelspec": {
   "display_name": "Python 3",
   "language": "python",
   "name": "python3"
  },
  "language_info": {
   "codemirror_mode": {
    "name": "ipython",
    "version": 3
   },
   "file_extension": ".py",
   "mimetype": "text/x-python",
   "name": "python",
   "nbconvert_exporter": "python",
   "pygments_lexer": "ipython3",
   "version": "3.9.0"
  }
 },
 "nbformat": 4,
 "nbformat_minor": 2
}
